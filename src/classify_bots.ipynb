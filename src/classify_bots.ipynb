{
 "cells": [
  {
   "cell_type": "markdown",
   "metadata": {},
   "source": [
    "# Using bot_classifier on metoo data"
   ]
  },
  {
   "cell_type": "markdown",
   "metadata": {},
   "source": [
    "\n",
    "\n",
    "### Setup"
   ]
  },
  {
   "cell_type": "markdown",
   "metadata": {},
   "source": [
    "###### Import the classifier and mongo client "
   ]
  },
  {
   "cell_type": "code",
   "execution_count": 9,
   "metadata": {},
   "outputs": [],
   "source": [
    "from bots import bot_classifier\n",
    "from pymongo import MongoClient\n",
    "import numpy as np\n",
    "import pandas as pd\n",
    "import labels as l"
   ]
  },
  {
   "cell_type": "markdown",
   "metadata": {},
   "source": [
    "###### Set up the DB connection"
   ]
  },
  {
   "cell_type": "code",
   "execution_count": 10,
   "metadata": {},
   "outputs": [],
   "source": [
    "#db connection\n",
    "mongoDBConnectionSTR = \"mongodb://localhost:27017\"\n",
    "client = MongoClient(mongoDBConnectionSTR)\n",
    "db = client.twitter #chose your DB name here"
   ]
  },
  {
   "cell_type": "markdown",
   "metadata": {},
   "source": [
    "###### Set the field configuration and instantiate the object"
   ]
  },
  {
   "cell_type": "code",
   "execution_count": 11,
   "metadata": {},
   "outputs": [],
   "source": [
    "field_config = \"id_str;created_at;reply_count;retweet_count;in_reply_to_screen_name;text\"\n",
    "usr_field_config = \"screen_name;description;followers_count;friends_count;listed_count;favourties_count;statuses_count;created_at;verified\"\n",
    "\n",
    "classifier = bot_classifier(db, field_config, usr_field_config)"
   ]
  },
  {
   "cell_type": "markdown",
   "metadata": {},
   "source": [
    "### Manual Labeling Process, using logical suggestions to find and label bots"
   ]
  },
  {
   "cell_type": "markdown",
   "metadata": {},
   "source": [
    "###### functions written to suggest bots, used to manually label bots"
   ]
  },
  {
   "cell_type": "code",
   "execution_count": 4,
   "metadata": {},
   "outputs": [],
   "source": [
    "suspected_bots = classifier.suggest_bots(0, 0)\n",
    "\n",
    "for tweet in suspected_bots:\n",
    "    print(tweet)\n",
    "    print('\\n')"
   ]
  },
  {
   "cell_type": "code",
   "execution_count": 5,
   "metadata": {},
   "outputs": [],
   "source": [
    "accounts_with_bot_in_name = classifier.find_names_with_bot(0, 0)\n",
    "\n",
    "for tweet in accounts_with_bot_in_name:\n",
    "    print(tweet)\n",
    "    print('\\n')"
   ]
  },
  {
   "cell_type": "code",
   "execution_count": 6,
   "metadata": {},
   "outputs": [],
   "source": [
    "accounts_with_low_followers_tweets = classifier.followers_tweets(0, 0)\n",
    "\n",
    "for tweet in accounts_with_low_followers_tweets:\n",
    "    print(tweet)\n",
    "    print('\\n')"
   ]
  },
  {
   "cell_type": "markdown",
   "metadata": {},
   "source": [
    "### Data Processing and Classification"
   ]
  },
  {
   "cell_type": "markdown",
   "metadata": {},
   "source": [
    "###### train with inital data (1221 bots and humans), predict with test data (1211 bots and humans) \n",
    "###### each iteration predict probability for 'step' number of tweets, take k most uncertain samples,\n",
    "###### label those, and then add the predictions to the training set and repeat\n",
    "###### training set grows by k each iteration, iterations will be (end/step + 1) if you start at 1"
   ]
  },
  {
   "cell_type": "code",
   "execution_count": 12,
   "metadata": {},
   "outputs": [
    {
     "name": "stdout",
     "output_type": "stream",
     "text": [
      "X_train: (1221, 7) y_train: (1221, 1) X_test: (1211, 7) y_test: (1211, 1)\n",
      "--------------------------------\n",
      "Iteration: 1\n",
      "\n",
      "\n",
      "y-test set: (1211, 1)\n",
      "\n",
      "\n",
      "Accuracy rate for 94.880264 \n",
      "--------------------------------\n"
     ]
    },
    {
     "name": "stderr",
     "output_type": "stream",
     "text": [
      "100%|██████████| 10000/10000 [00:00<00:00, 15734.33it/s]\n"
     ]
    },
    {
     "name": "stdout",
     "output_type": "stream",
     "text": [
      "X_train: (11221, 7) y_train: (11221, 1) X_test: (1211, 7) y_test: (1211, 1)\n",
      "--------------------------------\n",
      "Iteration: 2\n",
      "\n",
      "\n",
      "y-test set: (1211, 1)\n",
      "\n",
      "\n",
      "Accuracy rate for 95.953757 \n",
      "--------------------------------\n"
     ]
    },
    {
     "name": "stderr",
     "output_type": "stream",
     "text": [
      "100%|██████████| 10000/10000 [00:00<00:00, 16923.05it/s]\n"
     ]
    },
    {
     "name": "stdout",
     "output_type": "stream",
     "text": [
      "X_train: (21221, 7) y_train: (21221, 1) X_test: (1211, 7) y_test: (1211, 1)\n",
      "--------------------------------\n",
      "Iteration: 3\n",
      "\n",
      "\n",
      "y-test set: (1211, 1)\n",
      "\n",
      "\n",
      "Accuracy rate for 95.953757 \n",
      "--------------------------------\n"
     ]
    },
    {
     "name": "stderr",
     "output_type": "stream",
     "text": [
      "100%|██████████| 10000/10000 [00:00<00:00, 16963.82it/s]\n"
     ]
    },
    {
     "name": "stdout",
     "output_type": "stream",
     "text": [
      "X_train: (31221, 7) y_train: (31221, 1) X_test: (1211, 7) y_test: (1211, 1)\n",
      "--------------------------------\n",
      "Iteration: 4\n",
      "\n",
      "\n",
      "y-test set: (1211, 1)\n",
      "\n",
      "\n",
      "Accuracy rate for 95.871181 \n",
      "--------------------------------\n"
     ]
    },
    {
     "name": "stderr",
     "output_type": "stream",
     "text": [
      "100%|██████████| 10000/10000 [00:00<00:00, 16038.08it/s]\n"
     ]
    },
    {
     "name": "stdout",
     "output_type": "stream",
     "text": [
      "X_train: (41221, 7) y_train: (41221, 1) X_test: (1211, 7) y_test: (1211, 1)\n",
      "--------------------------------\n",
      "Iteration: 5\n",
      "\n",
      "\n",
      "y-test set: (1211, 1)\n",
      "\n",
      "\n",
      "Accuracy rate for 95.871181 \n",
      "--------------------------------\n"
     ]
    },
    {
     "name": "stderr",
     "output_type": "stream",
     "text": [
      "100%|██████████| 10000/10000 [00:00<00:00, 17796.03it/s]\n"
     ]
    },
    {
     "name": "stdout",
     "output_type": "stream",
     "text": [
      "X_train: (51221, 7) y_train: (51221, 1) X_test: (1211, 7) y_test: (1211, 1)\n",
      "--------------------------------\n",
      "Iteration: 6\n",
      "\n",
      "\n",
      "y-test set: (1211, 1)\n",
      "\n",
      "\n",
      "Accuracy rate for 95.871181 \n",
      "--------------------------------\n"
     ]
    },
    {
     "name": "stderr",
     "output_type": "stream",
     "text": [
      "100%|██████████| 10000/10000 [00:00<00:00, 17298.43it/s]\n"
     ]
    },
    {
     "name": "stdout",
     "output_type": "stream",
     "text": [
      "X_train: (61221, 7) y_train: (61221, 1) X_test: (1211, 7) y_test: (1211, 1)\n",
      "--------------------------------\n",
      "Iteration: 7\n",
      "\n",
      "\n",
      "y-test set: (1211, 1)\n",
      "\n",
      "\n",
      "Accuracy rate for 95.871181 \n",
      "--------------------------------\n"
     ]
    },
    {
     "name": "stderr",
     "output_type": "stream",
     "text": [
      "100%|██████████| 10000/10000 [00:00<00:00, 18501.81it/s]\n"
     ]
    },
    {
     "name": "stdout",
     "output_type": "stream",
     "text": [
      "X_train: (71221, 7) y_train: (71221, 1) X_test: (1211, 7) y_test: (1211, 1)\n",
      "--------------------------------\n",
      "Iteration: 8\n",
      "\n",
      "\n",
      "y-test set: (1211, 1)\n",
      "\n",
      "\n",
      "Accuracy rate for 95.953757 \n",
      "--------------------------------\n"
     ]
    },
    {
     "name": "stderr",
     "output_type": "stream",
     "text": [
      "100%|██████████| 10000/10000 [00:00<00:00, 15833.08it/s]\n"
     ]
    },
    {
     "name": "stdout",
     "output_type": "stream",
     "text": [
      "X_train: (81221, 7) y_train: (81221, 1) X_test: (1211, 7) y_test: (1211, 1)\n",
      "--------------------------------\n",
      "Iteration: 9\n",
      "\n",
      "\n",
      "y-test set: (1211, 1)\n",
      "\n",
      "\n",
      "Accuracy rate for 95.953757 \n",
      "--------------------------------\n"
     ]
    },
    {
     "name": "stderr",
     "output_type": "stream",
     "text": [
      "100%|██████████| 10000/10000 [00:00<00:00, 15676.26it/s]\n"
     ]
    },
    {
     "name": "stdout",
     "output_type": "stream",
     "text": [
      "X_train: (91221, 7) y_train: (91221, 1) X_test: (1211, 7) y_test: (1211, 1)\n",
      "--------------------------------\n",
      "Iteration: 10\n",
      "\n",
      "\n",
      "y-test set: (1211, 1)\n",
      "\n",
      "\n",
      "Accuracy rate for 95.375723 \n",
      "--------------------------------\n"
     ]
    },
    {
     "name": "stderr",
     "output_type": "stream",
     "text": [
      "100%|██████████| 10000/10000 [00:00<00:00, 13875.11it/s]\n"
     ]
    },
    {
     "name": "stdout",
     "output_type": "stream",
     "text": [
      "X_train: (101221, 7) y_train: (101221, 1) X_test: (1211, 7) y_test: (1211, 1)\n",
      "--------------------------------\n",
      "Iteration: 11\n",
      "\n",
      "\n",
      "y-test set: (1211, 1)\n",
      "\n",
      "\n",
      "Accuracy rate for 95.706028 \n",
      "--------------------------------\n"
     ]
    },
    {
     "name": "stderr",
     "output_type": "stream",
     "text": [
      "100%|██████████| 10000/10000 [00:00<00:00, 14738.11it/s]\n"
     ]
    }
   ],
   "source": [
    "# make testing data that will never be used for training, about 10% bots, shuffled\n",
    "human_df = classifier.make_dataframe_of_humans(0, 50000, 1100, classifier.bots_for_test_set)\n",
    "bot_df = classifier.make_dataframe_of_bots(0, 200000, len(classifier.bots_for_test_set), classifier.bots_for_test_set)\n",
    "human_df_labeled = classifier.label(human_df, False)\n",
    "bot_df_labeled = classifier.label(bot_df, True)\n",
    "test_df = classifier.mix(human_df_labeled, bot_df_labeled)\n",
    "\n",
    "# make intial training data, same percentage but will increase size as classifier runs\n",
    "human_df = classifier.make_dataframe_of_humans(0, 50000, 1100, classifier.bots_for_training)\n",
    "bot_df = classifier.make_dataframe_of_bots(0, 600000, len(classifier.bots_for_training), classifier.bots_for_training)\n",
    "human_df_labeled = classifier.label(human_df, False)\n",
    "bot_df_labeled = classifier.label(bot_df, True)\n",
    "train_df = classifier.mix(human_df_labeled, bot_df_labeled)\n",
    "\n",
    "#split data\n",
    "X_test, y_test = classifier.split(test_df)\n",
    "X_train, y_train = classifier.split(train_df)\n",
    "\n",
    "# now run this puppy!\n",
    "\n",
    "# start and end are seq_no's, k is sample size, i is iteration\n",
    "classifier.run(X_train, y_train, X_test, y_test, k=10000, start=0, end=1000000, step=100000, i=1)\n"
   ]
  },
  {
   "cell_type": "code",
   "execution_count": null,
   "metadata": {},
   "outputs": [],
   "source": []
  }
 ],
 "metadata": {
  "file_extension": ".py",
  "kernelspec": {
   "display_name": "Python 3",
   "language": "python",
   "name": "python3"
  },
  "language_info": {
   "codemirror_mode": {
    "name": "ipython",
    "version": 3
   },
   "file_extension": ".py",
   "mimetype": "text/x-python",
   "name": "python",
   "nbconvert_exporter": "python",
   "pygments_lexer": "ipython3",
   "version": "3.6.5"
  },
  "mimetype": "text/x-python",
  "name": "python",
  "npconvert_exporter": "python",
  "pygments_lexer": "ipython3",
  "version": 3
 },
 "nbformat": 4,
 "nbformat_minor": 2
}
