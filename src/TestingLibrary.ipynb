{
 "cells": [
  {
   "cell_type": "markdown",
   "metadata": {},
   "source": [
    "# Using **pyTwitterDB** library \n",
    "\n",
    "#### *This is a sample of how to use pyTwitterDB library*\n",
    "\n",
    "***\n",
    "\n",
    "#### **Requirements:**\n",
    "1. Python 32bits\n",
    "\n",
    "2. **Database**: MongoDB\n",
    "\n",
    "3. **Libraries:**\n",
    " + pymongo \n",
    " + NLTK  \n",
    " + numpy  \n",
    " + gensim\n",
    " + sklearn\n",
    " + csv\n",
    " + string\n",
    " + json\n"
   ]
  },
  {
   "cell_type": "markdown",
   "metadata": {},
   "source": [
    "#####   \n",
    "##### Importing library"
   ]
  },
  {
   "cell_type": "code",
   "execution_count": null,
   "metadata": {},
   "outputs": [],
   "source": [
    "import pyTwitterDB\n",
    "from pymongo import MongoClient"
   ]
  },
  {
   "cell_type": "markdown",
   "metadata": {},
   "source": [
    "#####      \n",
    "##### Setting Db connection"
   ]
  },
  {
   "cell_type": "code",
   "execution_count": null,
   "metadata": {},
   "outputs": [],
   "source": [
    "#db connection\n",
    "mongoDBConnectionSTR = \"mongodb://localhost:27017\"\n",
    "client = MongoClient(mongoDBConnectionSTR)\n",
    "db = client.twitter_DB_H #chose your DB name here"
   ]
  },
  {
   "cell_type": "markdown",
   "metadata": {},
   "source": [
    "#####    \n",
    "##### Defining object of type pyTwitterDB  /  And preparing settings for twitter analysis"
   ]
  },
  {
   "cell_type": "code",
   "execution_count": null,
   "metadata": {},
   "outputs": [],
   "source": [
    "#define settings\n",
    "fieldsConfig = \"id_str;created_at;lang;reply_count;retweet_count;in_reply_to_status_id_str;in_reply_to_screen_name\"\n",
    "fieldsUsrConfig =  \"name;screen_name;description;location;followers_count;friends_count;statuses_count;lang;verified\"\n",
    "\n",
    "# define object of type pyTwitterDB\n",
    "x = pyTwitterDB.pyTwitterDB_class(db, fieldsConfig,fieldsUsrConfig)\n"
   ]
  },
  {
   "cell_type": "markdown",
   "metadata": {},
   "source": [
    "#####  \n",
    "##### Loading tweets from files into MongoDb"
   ]
  },
  {
   "cell_type": "code",
   "execution_count": null,
   "metadata": {},
   "outputs": [],
   "source": [
    "x.loadDocFromFile(\"C:\\\\Data\\\\tweetAnalysis-Summer19\\\\tst2\")"
   ]
  },
  {
   "cell_type": "markdown",
   "metadata": {},
   "source": [
    "######   \n",
    "#### ******** **Suggestion**: Before running next step, add an index on column \"seq_no\" on \"tweet\" collection*\n"
   ]
  },
  {
   "cell_type": "markdown",
   "metadata": {},
   "source": [
    "#####    \n",
    "##### Loading Focused Data into MongoDB\n",
    "*This function will use the seetings set on fieldsConfig and fieldsUsrConfig variables* "
   ]
  },
  {
   "cell_type": "code",
   "execution_count": null,
   "metadata": {},
   "outputs": [],
   "source": [
    "x.loadFocusedData(100000)"
   ]
  },
  {
   "cell_type": "markdown",
   "metadata": {},
   "source": [
    "######   \n",
    "#### ******** **Suggestion**: Before running next step, add an index on column \"seq_no\" on \"focusedTweet\" collection*"
   ]
  },
  {
   "cell_type": "markdown",
   "metadata": {},
   "source": [
    "#####    \n",
    "##### Breaking tweets into Words\n",
    "*The parameter is the number of tweets it will process at a time. If you see any error, lower this number* "
   ]
  },
  {
   "cell_type": "code",
   "execution_count": null,
   "metadata": {},
   "outputs": [],
   "source": [
    "x.loadWordsData(30000)"
   ]
  },
  {
   "cell_type": "markdown",
   "metadata": {},
   "source": [
    "#####    \n",
    "##### Loading Aggregations into MongoDB\n",
    "*To add more types of aggregation, just create a new function and call it from \"loadAggregations\". You can follow similar logic from the exiting ones*"
   ]
  },
  {
   "cell_type": "code",
   "execution_count": null,
   "metadata": {},
   "outputs": [],
   "source": [
    "x.loadAggregations('tweetCountByFile')\n",
    "x.loadAggregations('hashtagCount')\n",
    "x.loadAggregations('tweetCountByLanguageAgg')\n",
    "x.loadAggregations('tweetCountByPeriodAgg')\n",
    "x.loadAggregations('tweetCountByUser')"
   ]
  },
  {
   "cell_type": "markdown",
   "metadata": {},
   "source": [
    "#   \n",
    "### Exporting data into files"
   ]
  },
  {
   "cell_type": "markdown",
   "metadata": {},
   "source": [
    "######    \n",
    "##### Exporting aggregations into | delimeted files. (These files can be opened as csv format)"
   ]
  },
  {
   "cell_type": "code",
   "execution_count": null,
   "metadata": {},
   "outputs": [],
   "source": [
    "exportPath = 'C:\\\\Data\\\\tweetAnalysis-Summer19\\\\tst2exports'\n",
    "\n",
    "x.exportData('tweetCountByFile', exportPath, 0)\n",
    "x.exportData('hashtagCount', exportPath, 0)\n",
    "x.exportData('tweetCountByMonth', exportPath, 0)\n",
    "x.exportData('tweetCountByLanguage', exportPath, 0)\n",
    "x.exportData('tweetCountByUser', exportPath, 0)"
   ]
  },
  {
   "cell_type": "markdown",
   "metadata": {},
   "source": [
    "#####    \n",
    "##### Exporting every tweet text with its period into | delimeted files. (These files can be opened as csv format)\n",
    "*since there could be too many tweets for one file, you can set the parameter \"inc\" with the number of lines that each file should have*"
   ]
  },
  {
   "cell_type": "code",
   "execution_count": null,
   "metadata": {},
   "outputs": [],
   "source": [
    "x.exportData('tweetTextAndPeriod', exportPath, 150000)"
   ]
  },
  {
   "cell_type": "markdown",
   "metadata": {},
   "source": [
    "#####    \n",
    "##### Exporting every word of each of the tweets into | delimeted files. (These files can be opened as csv format)\n",
    "*since there could be too many words for one file, you can set the parameter \"inc\" with the number of lines that each file should have*"
   ]
  },
  {
   "cell_type": "code",
   "execution_count": null,
   "metadata": {},
   "outputs": [],
   "source": [
    "x.exportData('wordsOnEachTweet', exportPath, 1000000)"
   ]
  },
  {
   "cell_type": "markdown",
   "metadata": {},
   "source": [
    "#####    \n",
    "##### Exporting every tweet text with details of the user into | delimeted files. (These files can be opened as csv format)\n",
    "*since there could be too many tweets for one file, you can set the parameter \"inc\" with the number of lines that each file should have*"
   ]
  },
  {
   "cell_type": "code",
   "execution_count": null,
   "metadata": {},
   "outputs": [],
   "source": [
    "x.exportData('userDetailsOnEachTweet', exportPath, 100000)"
   ]
  },
  {
   "cell_type": "markdown",
   "metadata": {},
   "source": [
    "#   \n",
    "### Topic Analysis"
   ]
  },
  {
   "cell_type": "code",
   "execution_count": null,
   "metadata": {},
   "outputs": [],
   "source": [
    "num_topics_lda=10\n",
    "num_topics_lsi=10\n",
    "num_topics_nmf=10\n",
    "max_no_tweets_perHT=70000"
   ]
  },
  {
   "cell_type": "markdown",
   "metadata": {},
   "source": [
    "######    \n",
    "##### Running topic analysis with gensim model"
   ]
  },
  {
   "cell_type": "code",
   "execution_count": null,
   "metadata": {},
   "outputs": [],
   "source": [
    "x.findTopics(num_topics_lda, num_topics_lsi, 0, max_no_tweets_perHT, \"gensim\")"
   ]
  },
  {
   "cell_type": "markdown",
   "metadata": {},
   "source": [
    "######   \n",
    "##### Running topic analysis with gensim model"
   ]
  },
  {
   "cell_type": "code",
   "execution_count": null,
   "metadata": {},
   "outputs": [],
   "source": [
    "x.findTopics(num_topics_lda, num_topics_lsi, num_topics_nmf, max_no_tweets_perHT, \"sklearn\")"
   ]
  },
  {
   "cell_type": "markdown",
   "metadata": {},
   "source": [
    "######   \n",
    "##### Exporting topics by hashtag into file"
   ]
  },
  {
   "cell_type": "code",
   "execution_count": null,
   "metadata": {},
   "outputs": [],
   "source": [
    "x.exportData('topicByHashtag', exportPath)"
   ]
  }
 ],
 "metadata": {
  "file_extension": ".py",
  "kernelspec": {
   "display_name": "Python 3",
   "language": "python",
   "name": "python3"
  },
  "language_info": {
   "codemirror_mode": {
    "name": "ipython",
    "version": 3
   },
   "file_extension": ".py",
   "mimetype": "text/x-python",
   "name": "python",
   "nbconvert_exporter": "python",
   "pygments_lexer": "ipython3",
   "version": "3.6.5"
  },
  "mimetype": "text/x-python",
  "name": "python",
  "npconvert_exporter": "python",
  "pygments_lexer": "ipython3",
  "version": 3
 },
 "nbformat": 4,
 "nbformat_minor": 2
}
